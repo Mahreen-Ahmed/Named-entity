{
 "cells": [
  {
   "cell_type": "code",
   "execution_count": null,
   "id": "ff490021",
   "metadata": {},
   "outputs": [],
   "source": [
    "import nltk"
   ]
  },
  {
   "cell_type": "code",
   "execution_count": null,
   "id": "bca1c113",
   "metadata": {},
   "outputs": [],
   "source": [
    "import nltk\n",
    "import nltk.corpus\n",
    "nltk.download('punkt')"
   ]
  },
  {
   "cell_type": "code",
   "execution_count": null,
   "id": "db6df609",
   "metadata": {},
   "outputs": [],
   "source": [
    "from nltk.tokenize import word_tokenize"
   ]
  },
  {
   "cell_type": "code",
   "execution_count": null,
   "id": "57a93b83",
   "metadata": {},
   "outputs": [],
   "source": [
    "#string\n",
    "cricket=\"After surprising the hosts in in the first Test, Srilanka made a positive start to the second Test as well as as kholi \""
   ]
  },
  {
   "cell_type": "code",
   "execution_count": null,
   "id": "cf1689bd",
   "metadata": {},
   "outputs": [],
   "source": [
    "#toekinzation\n",
    "cricket_token=word_tokenize(cricket)\n",
    "cricket_token"
   ]
  },
  {
   "cell_type": "code",
   "execution_count": null,
   "id": "b794eb23",
   "metadata": {},
   "outputs": [],
   "source": [
    "#checking the type and number of tokens\n",
    "type(cricket_token), len(cricket_token)"
   ]
  },
  {
   "cell_type": "code",
   "execution_count": null,
   "id": "8929f447",
   "metadata": {},
   "outputs": [],
   "source": [
    "#frequency of tokens\n",
    "from nltk.probability import FreqDist\n",
    "Fdist=FreqDist()"
   ]
  },
  {
   "cell_type": "code",
   "execution_count": null,
   "id": "fed6f452",
   "metadata": {},
   "outputs": [],
   "source": [
    "for i in cricket_token:\n",
    "    Fdist[i]=Fdist[i]+1\n",
    "Fdist"
   ]
  },
  {
   "cell_type": "code",
   "execution_count": null,
   "id": "e743a5a9",
   "metadata": {},
   "outputs": [],
   "source": [
    "#top ten most common tokens\n",
    "top_10=Fdist.most_common(8)\n",
    "top_10"
   ]
  },
  {
   "cell_type": "code",
   "execution_count": null,
   "id": "1dfd4cbb",
   "metadata": {},
   "outputs": [],
   "source": [
    "list(nltk.ngrams(cricket_token,4))"
   ]
  },
  {
   "cell_type": "code",
   "execution_count": null,
   "id": "0b755578",
   "metadata": {},
   "outputs": [],
   "source": [
    "#uni-gram , bi-gram, tri-gram \n",
    "list(nltk.bigrams(cricket_token))"
   ]
  },
  {
   "cell_type": "code",
   "execution_count": null,
   "id": "766c8946",
   "metadata": {
    "scrolled": false
   },
   "outputs": [],
   "source": [
    "list(nltk.trigrams(cricket_token))"
   ]
  },
  {
   "cell_type": "markdown",
   "id": "0f3344dc",
   "metadata": {},
   "source": [
    "Stemming is the process of reducing a word to it's word stem by cutting off the begining or the end\n",
    "Studies ---> Studi\n",
    "Giving--->Giv\n",
    "Buying--->Buy"
   ]
  },
  {
   "cell_type": "code",
   "execution_count": null,
   "id": "aa58b07d",
   "metadata": {},
   "outputs": [],
   "source": []
  },
  {
   "cell_type": "code",
   "execution_count": null,
   "id": "d68d2dcd",
   "metadata": {},
   "outputs": [],
   "source": [
    "#Stemming\n",
    "from nltk.stem import PorterStemmer\n",
    "pst=PorterStemmer()"
   ]
  },
  {
   "cell_type": "code",
   "execution_count": null,
   "id": "f89c75c4",
   "metadata": {},
   "outputs": [],
   "source": [
    "pst.stem(\"winning\"),pst.stem(\"studies\"),pst.stem(\"buying\")"
   ]
  },
  {
   "cell_type": "markdown",
   "id": "4f32c21c",
   "metadata": {},
   "source": [
    "Lemmatization\n",
    "    It is the process of reducing words into their lemma or dictionary\n",
    "    Studies ---->Study\n",
    "    Giving -----> Give\n",
    "    Buying ------> Buy"
   ]
  },
  {
   "cell_type": "code",
   "execution_count": null,
   "id": "062caf91",
   "metadata": {},
   "outputs": [],
   "source": [
    "from nltk.stem import wordnet\n",
    "from nltk.stem import WordNetLemmatizer\n",
    "lemmatizer=WordNetLemmatizer()"
   ]
  },
  {
   "cell_type": "code",
   "execution_count": null,
   "id": "86385b6e",
   "metadata": {},
   "outputs": [],
   "source": [
    "words_to_stem=[\"cats\",\"cacti\",\"geese\"]"
   ]
  },
  {
   "cell_type": "code",
   "execution_count": null,
   "id": "4e348c7a",
   "metadata": {},
   "outputs": [],
   "source": [
    "#pos\n",
    "peace=\"What do you mean, 'I don't believe in God'? I talk to him everday.\""
   ]
  },
  {
   "cell_type": "code",
   "execution_count": null,
   "id": "28f72b3b",
   "metadata": {},
   "outputs": [],
   "source": [
    "peace_tokenize=word_tokenize(peace)"
   ]
  },
  {
   "cell_type": "code",
   "execution_count": null,
   "id": "f663c2d5",
   "metadata": {},
   "outputs": [],
   "source": [
    "import nltk\n",
    "nltk.download('averaged_perceptron_tagger')"
   ]
  },
  {
   "cell_type": "code",
   "execution_count": null,
   "id": "5e83b10d",
   "metadata": {},
   "outputs": [],
   "source": [
    "import nltk\n",
    "nltk.download('wordnet')\n",
    "for token in words_to_stem:\n",
    "    print(token+ \":\"+lemmatizer.lemmatize(token))"
   ]
  },
  {
   "cell_type": "markdown",
   "id": "e933d09b",
   "metadata": {},
   "source": [
    "POS(Parts of Speech Tagging)\n",
    "Noun Pronoun\n",
    "Verb Adjective\n",
    "Preposition Conjunction\n",
    "Interjection Adverb\n"
   ]
  },
  {
   "cell_type": "markdown",
   "id": "14cf6141",
   "metadata": {},
   "source": [
    "Joe Loves Pizza\n",
    "|    |      |\n",
    "Noun Verb Noun"
   ]
  },
  {
   "cell_type": "code",
   "execution_count": null,
   "id": "66f7acee",
   "metadata": {},
   "outputs": [],
   "source": [
    "for token in peace_tokenize:\n",
    "    print(nltk.pos_tag([token]))"
   ]
  },
  {
   "cell_type": "markdown",
   "id": "25fbf9db",
   "metadata": {},
   "source": [
    "Named Entity Recognition\n",
    "It is the process of taking a string of text as input and identifyying relevant nouns(people,places and organizatons)that are mentionaed\n",
    " in that string\n",
    " \n",
    " Apple Buys   U.K. startup for 1$billion\n",
    " |             |                  |\n",
    " organization (GPE)             Money\n",
    " \n",
    " GPE stands for geo political entity"
   ]
  },
  {
   "cell_type": "code",
   "execution_count": null,
   "id": "a35a9819",
   "metadata": {},
   "outputs": [],
   "source": []
  },
  {
   "cell_type": "code",
   "execution_count": null,
   "id": "90767a73",
   "metadata": {},
   "outputs": [],
   "source": [
    "from nltk import ne_chunk\n",
    "nltk.download('maxent_ne_chunker')\n",
    "john=\" John lives in New York\""
   ]
  },
  {
   "cell_type": "code",
   "execution_count": null,
   "id": "5cee3c78",
   "metadata": {},
   "outputs": [],
   "source": [
    "john_token=word_tokenize(john)\n",
    "john_tags=nltk.pos_tag(john_token)\n",
    "john_tags"
   ]
  },
  {
   "cell_type": "code",
   "execution_count": null,
   "id": "c50bc698",
   "metadata": {
    "scrolled": false
   },
   "outputs": [],
   "source": [
    "nltk.download('words')\n",
    "john_ner=ne_chunk(john_token)\n",
    "print(john_ner)"
   ]
  },
  {
   "cell_type": "code",
   "execution_count": null,
   "id": "2149a13e",
   "metadata": {},
   "outputs": [],
   "source": []
  },
  {
   "cell_type": "code",
   "execution_count": null,
   "id": "719ed62b",
   "metadata": {},
   "outputs": [],
   "source": []
  },
  {
   "cell_type": "code",
   "execution_count": null,
   "id": "62b9e5e6",
   "metadata": {},
   "outputs": [],
   "source": []
  }
 ],
 "metadata": {
  "kernelspec": {
   "display_name": "Python 3 (ipykernel)",
   "language": "python",
   "name": "python3"
  },
  "language_info": {
   "codemirror_mode": {
    "name": "ipython",
    "version": 3
   },
   "file_extension": ".py",
   "mimetype": "text/x-python",
   "name": "python",
   "nbconvert_exporter": "python",
   "pygments_lexer": "ipython3",
   "version": "3.9.7"
  }
 },
 "nbformat": 4,
 "nbformat_minor": 5
}
