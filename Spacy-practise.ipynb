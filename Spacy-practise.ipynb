{
 "cells": [
  {
   "cell_type": "markdown",
   "id": "d2d8dfd6",
   "metadata": {},
   "source": [
    "Spacy is basically writtehn in Cython language and it become a defacto librarry for nlp \n",
    "It gives the command like C language"
   ]
  },
  {
   "cell_type": "code",
   "execution_count": 5,
   "id": "71939079",
   "metadata": {},
   "outputs": [],
   "source": [
    "import spacy\n",
    "\n",
    "\n",
    "nlp = spacy.load(\"en_core_web_sm\")"
   ]
  },
  {
   "cell_type": "code",
   "execution_count": 6,
   "id": "af18f64a",
   "metadata": {},
   "outputs": [],
   "source": [
    "doc=nlp(\"Hi, this is mehreen!!\")"
   ]
  },
  {
   "cell_type": "code",
   "execution_count": 7,
   "id": "1ec7c953",
   "metadata": {},
   "outputs": [
    {
     "name": "stdout",
     "output_type": "stream",
     "text": [
      "Hi\n",
      ",\n",
      "this\n",
      "is\n",
      "mehreen\n",
      "!\n",
      "!\n"
     ]
    }
   ],
   "source": [
    "#tokenization\n",
    "for token in doc:\n",
    "    print(token.text)"
   ]
  },
  {
   "cell_type": "code",
   "execution_count": 12,
   "id": "c9eacf8f",
   "metadata": {},
   "outputs": [
    {
     "data": {
      "text/plain": [
       ","
      ]
     },
     "execution_count": 12,
     "metadata": {},
     "output_type": "execute_result"
    }
   ],
   "source": [
    "token=doc[1]\n",
    "token"
   ]
  },
  {
   "cell_type": "code",
   "execution_count": 11,
   "id": "c78620fd",
   "metadata": {},
   "outputs": [
    {
     "data": {
      "text/plain": [
       "this is mehreen"
      ]
     },
     "execution_count": 11,
     "metadata": {},
     "output_type": "execute_result"
    }
   ],
   "source": [
    "span=doc[2:5]\n",
    "span"
   ]
  },
  {
   "cell_type": "code",
   "execution_count": 13,
   "id": "3f7e1de1",
   "metadata": {},
   "outputs": [
    {
     "name": "stdout",
     "output_type": "stream",
     "text": [
      "0 Hi\n",
      "1 ,\n",
      "2 this\n",
      "3 is\n",
      "4 mehreen\n",
      "5 !\n",
      "6 !\n"
     ]
    }
   ],
   "source": [
    "for token in doc:\n",
    "    print(token.i,token.text)"
   ]
  },
  {
   "cell_type": "code",
   "execution_count": 15,
   "id": "5fefc00b",
   "metadata": {},
   "outputs": [
    {
     "data": {
      "text/plain": [
       "Koey doen't share pizza!"
      ]
     },
     "execution_count": 15,
     "metadata": {},
     "output_type": "execute_result"
    }
   ],
   "source": [
    "doc=nlp(\"Koey doen't share pizza!\")\n",
    "doc"
   ]
  },
  {
   "cell_type": "code",
   "execution_count": 20,
   "id": "ee364ec2",
   "metadata": {},
   "outputs": [
    {
     "name": "stdout",
     "output_type": "stream",
     "text": [
      "0 Koey    PROPN\n",
      "1 doen't    PROPN\n",
      "2 share    NOUN\n",
      "3 pizza    NOUN\n",
      "4 !    PUNCT\n"
     ]
    }
   ],
   "source": [
    "for token in doc:\n",
    "    print(token.i, token.text, \"  \", token.pos_)"
   ]
  },
  {
   "cell_type": "code",
   "execution_count": 21,
   "id": "74eea5e0",
   "metadata": {},
   "outputs": [],
   "source": [
    "doc=nlp(\"Apple is looking to buy U.K. startup for 1$ billion\")"
   ]
  },
  {
   "cell_type": "code",
   "execution_count": 24,
   "id": "bc400fb0",
   "metadata": {},
   "outputs": [
    {
     "name": "stdout",
     "output_type": "stream",
     "text": [
      "Apple      ORG\n",
      "U.K.      GPE\n",
      "1$ billion      MONEY\n"
     ]
    }
   ],
   "source": [
    "for entity in doc.ents:\n",
    "    print(entity.text,\" \",\"  \", entity.label_)"
   ]
  },
  {
   "cell_type": "code",
   "execution_count": 25,
   "id": "15a83e26",
   "metadata": {},
   "outputs": [],
   "source": [
    "doc=nlp(\"Barak Obama the former president of United States will be avacting white house today\")"
   ]
  },
  {
   "cell_type": "code",
   "execution_count": 26,
   "id": "1c831ed2",
   "metadata": {},
   "outputs": [
    {
     "name": "stdout",
     "output_type": "stream",
     "text": [
      "Barak Obama   PERSON\n",
      "United States   GPE\n",
      "white house   ORG\n",
      "today   DATE\n"
     ]
    }
   ],
   "source": [
    "for entity in doc.ents:\n",
    "    print(entity.text, \" \",\"  \", entity.label_)"
   ]
  },
  {
   "cell_type": "code",
   "execution_count": 29,
   "id": "6443ce03",
   "metadata": {},
   "outputs": [],
   "source": [
    "from spacy.matcher import Matcher"
   ]
  },
  {
   "cell_type": "code",
   "execution_count": 30,
   "id": "e0b3cfea",
   "metadata": {},
   "outputs": [],
   "source": [
    "doc=nlp(\"Barack Obama the former president of United States will be vacating white house today\")"
   ]
  },
  {
   "cell_type": "code",
   "execution_count": 46,
   "id": "e5f25637",
   "metadata": {},
   "outputs": [
    {
     "ename": "TypeError",
     "evalue": "descriptor 'add' for 'spacy.matcher.matcher.Matcher' objects doesn't apply to a 'str' object",
     "output_type": "error",
     "traceback": [
      "\u001b[1;31m---------------------------------------------------------------------------\u001b[0m",
      "\u001b[1;31mTypeError\u001b[0m                                 Traceback (most recent call last)",
      "\u001b[1;32m~\\AppData\\Local\\Temp/ipykernel_5072/3687358083.py\u001b[0m in \u001b[0;36m<module>\u001b[1;34m\u001b[0m\n\u001b[0;32m      1\u001b[0m \u001b[0mpattern\u001b[0m\u001b[1;33m=\u001b[0m\u001b[1;33m[\u001b[0m\u001b[1;33m{\u001b[0m\u001b[1;34m'LEMMA'\u001b[0m\u001b[1;33m:\u001b[0m\u001b[1;34m'vacate'\u001b[0m\u001b[1;33m}\u001b[0m\u001b[1;33m,\u001b[0m\u001b[1;33m{\u001b[0m\u001b[1;34m'ORTH'\u001b[0m\u001b[1;33m:\u001b[0m\u001b[1;34m'white'\u001b[0m\u001b[1;33m}\u001b[0m\u001b[1;33m]\u001b[0m\u001b[1;33m\u001b[0m\u001b[1;33m\u001b[0m\u001b[0m\n\u001b[0;32m      2\u001b[0m \u001b[0mmatcher\u001b[0m\u001b[1;33m=\u001b[0m\u001b[0mMatcher\u001b[0m\u001b[1;33m(\u001b[0m\u001b[0mnlp\u001b[0m\u001b[1;33m.\u001b[0m\u001b[0mvocab\u001b[0m\u001b[1;33m)\u001b[0m\u001b[1;33m\u001b[0m\u001b[1;33m\u001b[0m\u001b[0m\n\u001b[1;32m----> 3\u001b[1;33m \u001b[0mMatcher\u001b[0m\u001b[1;33m.\u001b[0m\u001b[0madd\u001b[0m\u001b[1;33m(\u001b[0m\u001b[1;34m'white_Pattern'\u001b[0m\u001b[1;33m,\u001b[0m\u001b[0mpattern\u001b[0m\u001b[1;33m)\u001b[0m\u001b[1;33m\u001b[0m\u001b[1;33m\u001b[0m\u001b[0m\n\u001b[0m\u001b[0;32m      4\u001b[0m \u001b[0mmatches\u001b[0m\u001b[1;33m=\u001b[0m\u001b[0mmatcher\u001b[0m\u001b[1;33m(\u001b[0m\u001b[0mdoc\u001b[0m\u001b[1;33m)\u001b[0m\u001b[1;33m\u001b[0m\u001b[1;33m\u001b[0m\u001b[0m\n",
      "\u001b[1;31mTypeError\u001b[0m: descriptor 'add' for 'spacy.matcher.matcher.Matcher' objects doesn't apply to a 'str' object"
     ]
    }
   ],
   "source": [
    "pattern=[{'LEMMA':'vacate'},{'ORTH':'white'}]\n",
    "matcher=Matcher(nlp.vocab)\n",
    "Matcher.add('white_Pattern',pattern)\n",
    "matches=matcher(doc)"
   ]
  },
  {
   "cell_type": "code",
   "execution_count": null,
   "id": "ac63bc9e",
   "metadata": {},
   "outputs": [],
   "source": []
  },
  {
   "cell_type": "code",
   "execution_count": null,
   "id": "9b5bde07",
   "metadata": {},
   "outputs": [],
   "source": []
  },
  {
   "cell_type": "code",
   "execution_count": null,
   "id": "b7c0b894",
   "metadata": {},
   "outputs": [],
   "source": []
  },
  {
   "cell_type": "code",
   "execution_count": null,
   "id": "433b6d01",
   "metadata": {},
   "outputs": [],
   "source": []
  },
  {
   "cell_type": "code",
   "execution_count": null,
   "id": "2e5e4ed2",
   "metadata": {},
   "outputs": [],
   "source": []
  }
 ],
 "metadata": {
  "kernelspec": {
   "display_name": "Python 3 (ipykernel)",
   "language": "python",
   "name": "python3"
  },
  "language_info": {
   "codemirror_mode": {
    "name": "ipython",
    "version": 3
   },
   "file_extension": ".py",
   "mimetype": "text/x-python",
   "name": "python",
   "nbconvert_exporter": "python",
   "pygments_lexer": "ipython3",
   "version": "3.9.7"
  }
 },
 "nbformat": 4,
 "nbformat_minor": 5
}
